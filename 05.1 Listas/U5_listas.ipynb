{
  "cells": [
    {
      "cell_type": "markdown",
      "metadata": {
        "id": "bn3Yy_rr42FV"
      },
      "source": [
        "***\n",
        "## **LISTAS**\n",
        "***\n",
        "\n",
        "Las listas son secuencias mutables ya que permiten modificar los valores de sus elementos, eliminar o añadir elementos.\n",
        "\n",
        "En ellas se pueden almacenar tantos elementos como se desee, incluso pueden existir listas vacías (sin elementos). Para definirlas se utilizan corchetes y se separan los elementos mediante comas :\n",
        "\n",
        "`nombre_lista = [valor1, valor2, ...]`."
      ]
    },
    {
      "cell_type": "code",
      "execution_count": 1,
      "metadata": {
        "colab": {
          "base_uri": "https://localhost:8080/"
        },
        "id": "ZU99PSIi5Kiy",
        "outputId": "2a50340c-3dd7-4cd0-e780-b99510151737"
      },
      "outputs": [
        {
          "name": "stdout",
          "output_type": "stream",
          "text": [
            "[9.1, 8.5, 7.3]\n",
            "<class 'list'>\n"
          ]
        }
      ],
      "source": [
        "notas = [9.1, 8.5, 7.3]\n",
        "\n",
        "print(notas)\n",
        "print(type(notas))"
      ]
    },
    {
      "cell_type": "markdown",
      "metadata": {
        "id": "I4u1trEe566v"
      },
      "source": [
        "No es necesario que una lista contenga el mismo tipo de datos. Por ejemplo, podemos tener la siguiente lista:"
      ]
    },
    {
      "cell_type": "code",
      "execution_count": 2,
      "metadata": {
        "colab": {
          "base_uri": "https://localhost:8080/"
        },
        "id": "ElvRKGUM5-_P",
        "outputId": "3d7c6dc5-3c59-4802-e506-f8799ca75c03"
      },
      "outputs": [
        {
          "name": "stdout",
          "output_type": "stream",
          "text": [
            "['UTN', 2, 3.5, True]\n",
            "<class 'list'>\n"
          ]
        }
      ],
      "source": [
        "lista = [\"UTN\", 2, 3.5, True]\n",
        "\n",
        "print(lista)\n",
        "print(type(lista))"
      ]
    },
    {
      "cell_type": "markdown",
      "metadata": {
        "id": "XNZK3j5ypyoz"
      },
      "source": [
        "#### **MÉTODOS CON LISTAS**\n"
      ]
    },
    {
      "cell_type": "markdown",
      "metadata": {
        "id": "k4cQhvDH5UiR"
      },
      "source": [
        "**range**\n",
        "\n",
        "Se puede crear una lista de números automáticamente utilizando `range(inicio, fin)`."
      ]
    },
    {
      "cell_type": "code",
      "execution_count": 3,
      "metadata": {
        "colab": {
          "base_uri": "https://localhost:8080/"
        },
        "id": "ItAc9hi_5ZUU",
        "outputId": "94f4d9f8-50b7-4e55-b4c5-2bafbfba228f"
      },
      "outputs": [
        {
          "name": "stdout",
          "output_type": "stream",
          "text": [
            "[1, 2, 3, 4, 5, 6, 7, 8, 9]\n"
          ]
        }
      ],
      "source": [
        "lista_range = list(range(1,10))\n",
        "\n",
        "print(lista_range)"
      ]
    },
    {
      "cell_type": "markdown",
      "metadata": {
        "id": "3oQ1y6-95gHO"
      },
      "source": [
        "Por default toma intervalos de 1 en 1. Para modificar esto basta con agregar un argumento a `range(inicio, fin, intervalo)`."
      ]
    },
    {
      "cell_type": "code",
      "execution_count": 4,
      "metadata": {
        "colab": {
          "base_uri": "https://localhost:8080/"
        },
        "id": "k1JbkXg95tiy",
        "outputId": "3f2337c9-9d12-4db7-ebd7-6bfd5b7592c2"
      },
      "outputs": [
        {
          "name": "stdout",
          "output_type": "stream",
          "text": [
            "[1, 3, 5, 7, 9]\n"
          ]
        }
      ],
      "source": [
        "lista_range = list(range(1,10,2))\n",
        "\n",
        "print(lista_range)"
      ]
    },
    {
      "cell_type": "markdown",
      "metadata": {
        "id": "-ztacGTvqzeq"
      },
      "source": [
        "**split**\n",
        "\n",
        "Permite crear una lista a partir de un string, utilizando un caracter específico como separador. Por defecto, utiliza los espacios para separar el string en distintos elementos de la lista."
      ]
    },
    {
      "cell_type": "code",
      "execution_count": 5,
      "metadata": {
        "colab": {
          "base_uri": "https://localhost:8080/"
        },
        "id": "HzV7oZNJf3hP",
        "outputId": "98890aed-4675-4e08-8856-7f5d4804b8d1"
      },
      "outputs": [
        {
          "name": "stdout",
          "output_type": "stream",
          "text": [
            "['Hello', 'world!']\n"
          ]
        }
      ],
      "source": [
        "hello_world_string = 'Hello world!'\n",
        "lista_separada = hello_world_string.split()\n",
        "\n",
        "print(lista_separada)"
      ]
    },
    {
      "cell_type": "markdown",
      "metadata": {
        "id": "U8F3_45Tuv9R"
      },
      "source": [
        "***Slicing***\n",
        "\n",
        "Es posible acceder a los distintos elementos de una lista utilizando el índice del mismo, de manera análoga a como se realiza con los strings `nombre_lista[índice_elemento]`."
      ]
    },
    {
      "cell_type": "code",
      "execution_count": 6,
      "metadata": {
        "colab": {
          "base_uri": "https://localhost:8080/"
        },
        "id": "4HV-f_Y1uvY0",
        "outputId": "db131e39-a7a1-4ec2-daae-4f8af18c68c8"
      },
      "outputs": [
        {
          "name": "stdout",
          "output_type": "stream",
          "text": [
            "UTN\n",
            "<class 'str'>\n"
          ]
        }
      ],
      "source": [
        "lista = [\"UTN\", 2, 3.5, True]\n",
        "\n",
        "posicion_1_lista = lista[0]\n",
        "\n",
        "print(posicion_1_lista)\n",
        "print(type(posicion_1_lista))"
      ]
    },
    {
      "cell_type": "code",
      "execution_count": 7,
      "metadata": {
        "colab": {
          "base_uri": "https://localhost:8080/"
        },
        "id": "9mOHVNC3LSFj",
        "outputId": "9f1923b6-ced7-4a3b-913c-e01aa4e33456"
      },
      "outputs": [
        {
          "name": "stdout",
          "output_type": "stream",
          "text": [
            "['UTN', 2, 3.5]\n"
          ]
        }
      ],
      "source": [
        "rango_lista = lista[0:3]\n",
        "print(rango_lista)"
      ]
    },
    {
      "cell_type": "markdown",
      "metadata": {
        "id": "VnIAWxyJ8fC4"
      },
      "source": [
        "***Añadir elementos***\n",
        "\n",
        "Se usa la sentencia `nombreLista.append(elementoAAñadir)`.\n",
        "\n",
        "Notar que no es necesario sobreescribir la variable, las sentencia `append()` modifica la lista sin necesidad de sobreescribirla."
      ]
    },
    {
      "cell_type": "code",
      "execution_count": 8,
      "metadata": {
        "colab": {
          "base_uri": "https://localhost:8080/"
        },
        "id": "Ok3csCG_Lhge",
        "outputId": "033f68ee-470b-4f3a-ea9a-83df4a04cbe6"
      },
      "outputs": [
        {
          "name": "stdout",
          "output_type": "stream",
          "text": [
            "[9.1, 8.5, 7.3]\n"
          ]
        }
      ],
      "source": [
        "print(notas)"
      ]
    },
    {
      "cell_type": "code",
      "execution_count": 9,
      "metadata": {
        "colab": {
          "base_uri": "https://localhost:8080/"
        },
        "id": "0enI9d7Nz05h",
        "outputId": "cdca07ec-b792-4bd5-85eb-d664dfcaafd0"
      },
      "outputs": [
        {
          "name": "stdout",
          "output_type": "stream",
          "text": [
            "[9.1, 8.5, 7.3, 9.2, False]\n"
          ]
        }
      ],
      "source": [
        "notas.append(9.2)\n",
        "notas.append(False)\n",
        "print(notas)"
      ]
    },
    {
      "cell_type": "markdown",
      "metadata": {
        "id": "06FIFwNeNE0w"
      },
      "source": [
        "***Eliminar elementos***\n",
        "\n",
        "Se usa la sentencia `nombreLista.remove(elementoAEliminar)`.\n"
      ]
    },
    {
      "cell_type": "code",
      "execution_count": 10,
      "metadata": {
        "colab": {
          "base_uri": "https://localhost:8080/"
        },
        "id": "3sj5NFw2NE03",
        "outputId": "f18afe36-af1c-4ae9-b570-8b00f82ae68a"
      },
      "outputs": [
        {
          "name": "stdout",
          "output_type": "stream",
          "text": [
            "[9.1, 8.5, 7.3]\n"
          ]
        }
      ],
      "source": [
        "notas.remove(9.2)\n",
        "notas.remove(False)\n",
        "print(notas)"
      ]
    },
    {
      "cell_type": "markdown",
      "metadata": {
        "id": "hpW3x2TSpRMG"
      },
      "source": [
        "***Actualizar elementos***\n",
        "\n",
        "Para esto se hace uso del slicing. Esta operación diferencia una lista de un string, ya que no puede ser efectuada en el segundo tipo de dato. <Por ejemplo, si queremos actualizar el tercer elemento:"
      ]
    },
    {
      "cell_type": "code",
      "execution_count": 11,
      "metadata": {
        "colab": {
          "base_uri": "https://localhost:8080/"
        },
        "id": "vugjBINkpQxe",
        "outputId": "0067fb24-8550-44bf-827d-c78adac23ee2"
      },
      "outputs": [
        {
          "name": "stdout",
          "output_type": "stream",
          "text": [
            "[9.1, 8.5, 'Hola mundo']\n"
          ]
        }
      ],
      "source": [
        "notas[2] = \"Hola mundo\"\n",
        "\n",
        "print(notas)"
      ]
    },
    {
      "cell_type": "markdown",
      "metadata": {
        "id": "VE2EvtNzz05i"
      },
      "source": [
        "***Concatenación***\n",
        "\n",
        "Se pueden concatenar dos listas usando el operador de la suma (**+**)."
      ]
    },
    {
      "cell_type": "code",
      "execution_count": 12,
      "metadata": {
        "colab": {
          "base_uri": "https://localhost:8080/"
        },
        "id": "DBK_ZK9hz05j",
        "outputId": "020e1328-e649-4449-ebf8-0e4e1f2c07de"
      },
      "outputs": [
        {
          "name": "stdout",
          "output_type": "stream",
          "text": [
            "[9.1, 8.5, 'Hola mundo', 'UTN', True]\n"
          ]
        }
      ],
      "source": [
        "notas_2 = notas + [\"UTN\", True]\n",
        "\n",
        "print(notas_2)"
      ]
    },
    {
      "cell_type": "markdown",
      "metadata": {
        "id": "mg38bjQ4z05n"
      },
      "source": [
        "***Comprobar si un valor existe dentro de la lista***\n",
        "\n",
        "Se usa el término `in`."
      ]
    },
    {
      "cell_type": "code",
      "execution_count": 13,
      "metadata": {
        "colab": {
          "base_uri": "https://localhost:8080/"
        },
        "id": "QamzovNjz05o",
        "outputId": "88042079-5df0-460b-b357-112c34b3852f"
      },
      "outputs": [
        {
          "name": "stdout",
          "output_type": "stream",
          "text": [
            "False\n"
          ]
        }
      ],
      "source": [
        "print(8 in notas_2)"
      ]
    },
    {
      "cell_type": "code",
      "execution_count": 14,
      "metadata": {
        "colab": {
          "base_uri": "https://localhost:8080/"
        },
        "id": "8dwQxp_iowtd",
        "outputId": "4fc0b2b9-82c3-4171-c4e2-6dd397b0a1e2"
      },
      "outputs": [
        {
          "name": "stdout",
          "output_type": "stream",
          "text": [
            "True\n"
          ]
        }
      ],
      "source": [
        "print('UTN' in notas_2)"
      ]
    },
    {
      "cell_type": "markdown",
      "metadata": {
        "id": "FsKs9MrD6UlO"
      },
      "source": [
        "#### **LISTAS ANIDADAS**\n",
        "\n",
        "Pueden haber listas adentro de otras listas, por ejemplo:"
      ]
    },
    {
      "cell_type": "code",
      "execution_count": 15,
      "metadata": {
        "colab": {
          "base_uri": "https://localhost:8080/"
        },
        "id": "uYSrcLBt6YZk",
        "outputId": "bf2cc171-3184-492b-f0ba-e18f9c60384c"
      },
      "outputs": [
        {
          "name": "stdout",
          "output_type": "stream",
          "text": [
            "[1, 1.3, ['UTN', 'Mendoza']]\n"
          ]
        }
      ],
      "source": [
        "lista_anidada = [1, 1.3, [\"UTN\", \"Mendoza\"]]\n",
        "\n",
        "print(lista_anidada)"
      ]
    },
    {
      "cell_type": "code",
      "execution_count": 16,
      "metadata": {
        "colab": {
          "base_uri": "https://localhost:8080/"
        },
        "id": "_42jQMnQNv-6",
        "outputId": "23d324d4-3bb5-4dea-bb87-9b162bfcd89b"
      },
      "outputs": [
        {
          "name": "stdout",
          "output_type": "stream",
          "text": [
            "['UTN', 'Mendoza']\n"
          ]
        }
      ],
      "source": [
        "posicion_2_lista = lista_anidada[2]\n",
        "print(posicion_2_lista)"
      ]
    },
    {
      "cell_type": "code",
      "execution_count": 17,
      "metadata": {
        "colab": {
          "base_uri": "https://localhost:8080/"
        },
        "id": "ynOdot5AvLnm",
        "outputId": "177d2474-4a9d-40d9-b15f-a8f8b97e4108"
      },
      "outputs": [
        {
          "name": "stdout",
          "output_type": "stream",
          "text": [
            "Mendoza\n"
          ]
        }
      ],
      "source": [
        "posicion_2_1_lista = lista_anidada[2][1]\n",
        "\n",
        "print(posicion_2_1_lista)"
      ]
    }
  ],
  "metadata": {
    "celltoolbar": "Slideshow",
    "colab": {
      "provenance": []
    },
    "kernelspec": {
      "display_name": "Python 3",
      "language": "python",
      "name": "python3"
    },
    "language_info": {
      "codemirror_mode": {
        "name": "ipython",
        "version": 3
      },
      "file_extension": ".py",
      "mimetype": "text/x-python",
      "name": "python",
      "nbconvert_exporter": "python",
      "pygments_lexer": "ipython3",
      "version": "3.11.5"
    }
  },
  "nbformat": 4,
  "nbformat_minor": 0
}
